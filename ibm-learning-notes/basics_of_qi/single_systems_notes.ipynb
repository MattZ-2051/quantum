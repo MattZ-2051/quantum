{
 "cells": [
  {
   "cell_type": "markdown",
   "id": "8a2a1237-6cd7-49c7-9f21-6cc7b96c1ad5",
   "metadata": {},
   "source": [
    "# Qiskit Examples"
   ]
  },
  {
   "cell_type": "markdown",
   "id": "41945d9f-aa08-48cc-a587-ffc3c82067ce",
   "metadata": {},
   "source": [
    "In this section we present some examples of Qiskit implementations fo the concepts introduced in the single systems lesson"
   ]
  },
  {
   "cell_type": "markdown",
   "id": "bb76cb80-171e-47f7-9e6c-414ba2f0ecbf",
   "metadata": {},
   "source": [
    "#### Vectors and matrices in Python"
   ]
  },
  {
   "cell_type": "markdown",
   "id": "5af71757-3933-45f9-8474-408739cf45c4",
   "metadata": {},
   "source": [
    "Qiskit uses the Python programming language, so before discussing Qiskit specifically it may be helpful to very briefly discuss matrix and vector computations in Python. In Python, matrix and vector computations can be performed using the array class from the NumPy library (which includes many additional components for numerical computation).\n",
    "\n",
    "Here is an example of a code cell that defines two vectors, ket0 and ket1 , corresponding to the qubit state vectors ∣0⟩ and ∣1⟩, and displays their average.\n"
   ]
  },
  {
   "cell_type": "code",
   "execution_count": 1,
   "id": "e6cc81e8-a840-4706-a4bf-aeba49192e62",
   "metadata": {},
   "outputs": [
    {
     "name": "stdout",
     "output_type": "stream",
     "text": [
      "Requirement already satisfied: numpy in /usr/local/Cellar/jupyterlab/4.2.5_1/libexec/lib/python3.12/site-packages (2.1.2)\n",
      "Note: you may need to restart the kernel to use updated packages.\n"
     ]
    }
   ],
   "source": [
    "pip install numpy"
   ]
  },
  {
   "cell_type": "code",
   "execution_count": 2,
   "id": "ed4fcae0-f6de-48bb-a63d-451683086d65",
   "metadata": {},
   "outputs": [
    {
     "data": {
      "text/plain": [
       "array([0.5, 0.5])"
      ]
     },
     "metadata": {},
     "output_type": "display_data"
    }
   ],
   "source": [
    "from numpy import array\n",
    "\n",
    "ket0 = array([1, 0])\n",
    "ket1 = array([0, 1])\n",
    "\n",
    "display(ket0 / 2 + ket1 / 2)"
   ]
  },
  {
   "cell_type": "markdown",
   "id": "3e1ec43a-75fe-4850-b35a-da4c1d9312c8",
   "metadata": {},
   "source": [
    "This code cell also illustrates that running code cells sequentially on a given page of this textbook has a cumulative effect, so it is not necessary to reload the array class or define ket0 and ket1 again. Reloading the page or switching to another page will, however, reset everything to its initial state.\n",
    "\n",
    "As a general guideline, code cells within each subsection of this course are intended to be run sequentially. So, if running a code cell generates an error, be sure to first run all previous code cells within the subsection in which that code cell appears.\n",
    "\n",
    "We can also use array to create matrices that represent operations."
   ]
  },
  {
   "cell_type": "code",
   "execution_count": 3,
   "id": "7660c2cf-d7b7-4fc5-b07e-a0c8f2e86e4f",
   "metadata": {},
   "outputs": [
    {
     "data": {
      "text/plain": [
       "array([[1. , 1. ],\n",
       "       [0.5, 0. ]])"
      ]
     },
     "execution_count": 3,
     "metadata": {},
     "output_type": "execute_result"
    }
   ],
   "source": [
    "from numpy import array\n",
    "\n",
    "M1 = array([[1, 1], [0, 0]])\n",
    "M2 = array([[1, 1], [1, 0]])\n",
    "\n",
    "M1 / 2 + M2 / 2"
   ]
  },
  {
   "cell_type": "markdown",
   "id": "71de9efd-2a4d-418e-acf0-52c32a83233e",
   "metadata": {},
   "source": [
    "Matrix multiplication (including matrix-vector multiplication as a special case) can be performed using the matmul function from NumPy :"
   ]
  },
  {
   "cell_type": "code",
   "execution_count": 4,
   "id": "0131fdf6-a01a-4941-bb20-4533a5da1e33",
   "metadata": {},
   "outputs": [
    {
     "data": {
      "text/plain": [
       "array([1, 0])"
      ]
     },
     "metadata": {},
     "output_type": "display_data"
    },
    {
     "data": {
      "text/plain": [
       "array([[2, 1],\n",
       "       [0, 0]])"
      ]
     },
     "metadata": {},
     "output_type": "display_data"
    },
    {
     "data": {
      "text/plain": [
       "array([[1, 1],\n",
       "       [1, 1]])"
      ]
     },
     "metadata": {},
     "output_type": "display_data"
    }
   ],
   "source": [
    "from numpy import matmul\n",
    "\n",
    "ket0 = array([1, 0])\n",
    "ket1 = array([0, 1])\n",
    "\n",
    "display(matmul(M1, ket1))\n",
    "display(matmul(M1, M2))\n",
    "display(matmul(M2, M1))"
   ]
  },
  {
   "cell_type": "markdown",
   "id": "9a0212d3-d4be-48f7-ab7e-2d4a281764a3",
   "metadata": {},
   "source": [
    "#### States, measurements, and operations"
   ]
  },
  {
   "cell_type": "markdown",
   "id": "0ec8094a-31ba-4a27-97ba-33f332a7a1ad",
   "metadata": {},
   "source": [
    "Qiskit includes several classes that allow for states, measurements, and operations to be easily created and manipulated - so starting from scratch and prgramming eeverything that is needed to simulate quantum states, measurements and operations in Python is not required. Some examples to get started are included below."
   ]
  },
  {
   "cell_type": "markdown",
   "id": "64e94487-97de-48d5-b45c-a0ddd74d73c4",
   "metadata": {},
   "source": [
    "##### Defining and displaying state vectors"
   ]
  },
  {
   "cell_type": "markdown",
   "id": "0b234689-7679-4698-8f49-e21d13e533d3",
   "metadata": {},
   "source": [
    "Qiskit's Statevector class prvides functionality for defining and manipulating quantum state vectors. The following code cell imports the Statevector class and defines a few vectors using it."
   ]
  },
  {
   "cell_type": "markdown",
   "id": "c5124eb3-b2ad-4d95-bd0e-f7a920f5d6da",
   "metadata": {},
   "source": [
    "pip install qiskit"
   ]
  },
  {
   "cell_type": "code",
   "execution_count": 1,
   "id": "15fb6fce-d6e3-4703-9b6d-95103cc8049d",
   "metadata": {},
   "outputs": [
    {
     "name": "stdout",
     "output_type": "stream",
     "text": [
      "State vectors u, v, and w have been defined.\n"
     ]
    }
   ],
   "source": [
    "from qiskit.quantum_info import Statevector\n",
    "from numpy import sqrt\n",
    "\n",
    "u = Statevector([1 / sqrt(2), 1 / sqrt(2)])\n",
    "v = Statevector([(1 + 2.0j) / 3, -2 / 3])\n",
    "w = Statevector([1 / 3, 2 / 3])\n",
    "\n",
    "print(\"State vectors u, v, and w have been defined.\")"
   ]
  },
  {
   "cell_type": "markdown",
   "id": "bb4b3b75-c2c7-485e-8e6a-fc906a459ca3",
   "metadata": {},
   "source": [
    "The Statevector class provides a draw method for displaying state vectors, including latex and text options for different visualizations, as this code cell demonstrates:"
   ]
  },
  {
   "cell_type": "code",
   "execution_count": 2,
   "id": "655cdfde-e19b-4e36-b822-ea0a7d9d1f4a",
   "metadata": {},
   "outputs": [
    {
     "data": {
      "text/latex": [
       "$$\\frac{\\sqrt{2}}{2} |0\\rangle+\\frac{\\sqrt{2}}{2} |1\\rangle$$"
      ],
      "text/plain": [
       "<IPython.core.display.Latex object>"
      ]
     },
     "metadata": {},
     "output_type": "display_data"
    },
    {
     "data": {
      "text/plain": [
       "[ 0.33333333+0.66666667j,-0.66666667+0.j        ]"
      ]
     },
     "metadata": {},
     "output_type": "display_data"
    }
   ],
   "source": [
    "display(u.draw(\"latex\"))\n",
    "display(v.draw(\"text\"))"
   ]
  },
  {
   "cell_type": "markdown",
   "id": "5b9d22b4-c6ca-4739-9beb-e4a553446ef4",
   "metadata": {},
   "source": [
    "The Statevector class also includes the is_valid method, which checks to see if a given vector is a valid quantum state vector (i.e., that it has Euclidean norm equal to 1):"
   ]
  },
  {
   "cell_type": "code",
   "execution_count": 3,
   "id": "e3bc8b6c-2f21-4a6d-a4ab-860eddf3d20b",
   "metadata": {},
   "outputs": [
    {
     "data": {
      "text/plain": [
       "True"
      ]
     },
     "metadata": {},
     "output_type": "display_data"
    },
    {
     "data": {
      "text/plain": [
       "False"
      ]
     },
     "metadata": {},
     "output_type": "display_data"
    }
   ],
   "source": [
    "display(u.is_valid())\n",
    "display(w.is_valid())"
   ]
  },
  {
   "cell_type": "markdown",
   "id": "d2b9ad27-bb24-4934-af26-28c9ad02d3d6",
   "metadata": {},
   "source": [
    "##### Simulating measurements using Statevector"
   ]
  },
  {
   "cell_type": "markdown",
   "id": "d4f2d326-8677-42f4-8f14-851469938ff9",
   "metadata": {},
   "source": [
    "Next we will see one way that measurements of quantum states can be simulated in Qiskit, using the measure method from the Statevector class.\n",
    "\n",
    "First, we create a qubit state vector v and then display it."
   ]
  },
  {
   "cell_type": "code",
   "execution_count": 5,
   "id": "8343ea8e-3bda-45db-8f17-c8ca8f23554d",
   "metadata": {},
   "outputs": [
    {
     "data": {
      "text/latex": [
       "$$(\\frac{1}{3} + \\frac{2 i}{3}) |0\\rangle- \\frac{2}{3} |1\\rangle$$"
      ],
      "text/plain": [
       "<IPython.core.display.Latex object>"
      ]
     },
     "execution_count": 5,
     "metadata": {},
     "output_type": "execute_result"
    }
   ],
   "source": [
    "from qiskit.quantum_info import Statevector\n",
    "\n",
    "v = Statevector([(1 + 2.0j) / 3, -2 / 3])\n",
    "v.draw(\"latex\")"
   ]
  },
  {
   "cell_type": "code",
   "execution_count": 8,
   "id": "a1b82c11-d5c0-4703-92c6-c958bc90c722",
   "metadata": {},
   "outputs": [
    {
     "data": {
      "text/plain": [
       "(np.str_('1'),\n",
       " Statevector([ 0.+0.j, -1.+0.j],\n",
       "             dims=(2,)))"
      ]
     },
     "execution_count": 8,
     "metadata": {},
     "output_type": "execute_result"
    }
   ],
   "source": [
    "v.measure()"
   ]
  },
  {
   "cell_type": "markdown",
   "id": "f9e875ed-0fa6-481f-933c-f6db1925b766",
   "metadata": {},
   "source": [
    "Measurement outcomes are probabilistic, so the same method can return different results.\n"
   ]
  },
  {
   "cell_type": "markdown",
   "id": "152dc483-628d-4641-9fc6-75d1066e5179",
   "metadata": {},
   "source": [
    "Statevector also comes with a sample_counts method that allows for the simulation of any number of measurements on the system. For example, the following cell shows the outcome of measuring the vector v 10001000 times, which (with high probability) results in the outcome 0 approximately 5 out of every 9 times (or about 556 of the 1000 trials) and the the outcome 1 approximately 4 out of every 9 times (or about 444 out of the 1000 trials). The cell also demonstrates the plot_histogram function for visualizing the results."
   ]
  },
  {
   "cell_type": "markdown",
   "id": "6001071b-0761-492c-8d03-3f346d73f46e",
   "metadata": {},
   "source": [
    "pip install matplotlib"
   ]
  },
  {
   "cell_type": "code",
   "execution_count": 2,
   "id": "09e0bd12-6f06-4d6e-805f-24cac923118f",
   "metadata": {},
   "outputs": [
    {
     "data": {
      "text/plain": [
       "{np.str_('0'): np.int64(566), np.str_('1'): np.int64(434)}"
      ]
     },
     "metadata": {},
     "output_type": "display_data"
    },
    {
     "name": "stderr",
     "output_type": "stream",
     "text": [
      "Matplotlib is building the font cache; this may take a moment.\n"
     ]
    },
    {
     "data": {
      "image/png": "[encoded data removed]",
      "text/plain": [
       "<Figure size 640x480 with 1 Axes>"
      ]
     },
     "execution_count": 2,
     "metadata": {},
     "output_type": "execute_result"
    }
   ],
   "source": [
    "from qiskit.visualization import plot_histogram\n",
    "from qiskit.quantum_info import Statevector\n",
    "\n",
    "v = Statevector([(1 + 2.0j) / 3, -2 / 3])\n",
    "statistics = v.sample_counts(1000)\n",
    "display(statistics)\n",
    "plot_histogram(statistics)"
   ]
  },
  {
   "cell_type": "markdown",
   "id": "6e664be6-b338-44af-b5c8-102a9a482146",
   "metadata": {},
   "source": [
    "##### Performing operations with Operator and Statevector"
   ]
  },
  {
   "cell_type": "markdown",
   "id": "da422211-ee67-4f66-b802-3c132920587a",
   "metadata": {},
   "source": [
    "Unitary operations can be defined and performed on state vectors in Qiskit using the Operator class, as in the example that follows."
   ]
  },
  {
   "cell_type": "code",
   "execution_count": 3,
   "id": "4ccb7ff9-50a2-48d0-98f5-be12931d2d37",
   "metadata": {},
   "outputs": [
    {
     "data": {
      "text/plain": [
       "[ 0.85355339+0.35355339j,-0.35355339+0.14644661j]"
      ]
     },
     "execution_count": 3,
     "metadata": {},
     "output_type": "execute_result"
    }
   ],
   "source": [
    "from qiskit.quantum_info import Operator, Statevector\n",
    "from numpy import sqrt\n",
    "\n",
    "X = Operator([[0, 1], [1, 0]])\n",
    "Y = Operator([[0, -1.0j], [1.0j, 0]])\n",
    "Z = Operator([[1, 0], [0, -1]])\n",
    "H = Operator([[1 / sqrt(2), 1 / sqrt(2)], [1 / sqrt(2), -1 / sqrt(2)]])\n",
    "S = Operator([[1, 0], [0, 1.0j]])\n",
    "T = Operator([[1, 0], [0, (1 + 1.0j) / sqrt(2)]])\n",
    "\n",
    "v = Statevector([1, 0])\n",
    "\n",
    "v = v.evolve(H)\n",
    "v = v.evolve(T)\n",
    "v = v.evolve(H)\n",
    "v = v.evolve(T)\n",
    "v = v.evolve(Z)\n",
    "\n",
    "v.draw(\"text\")"
   ]
  },
  {
   "cell_type": "markdown",
   "id": "78864bec-a26f-4911-b1d9-f37d470bff39",
   "metadata": {},
   "source": [
    "##### Looking ahead toward quantum circuits"
   ]
  },
  {
   "cell_type": "markdown",
   "id": "ad80475f-086c-4173-83b2-1b02d7c8e750",
   "metadata": {},
   "source": [
    "We may define a quantum circuit (which in this case will simply be a sequence of unitary operations performed ona single quibit) as follows."
   ]
  },
  {
   "cell_type": "code",
   "execution_count": 4,
   "id": "b123aa67-c104-4f55-a123-403fd2e3ab30",
   "metadata": {},
   "outputs": [
    {
     "data": {
      "text/html": [
       "<pre style=\"word-wrap: normal;white-space: pre;background: #fff0;line-height: 1.1;font-family: &quot;Courier New&quot;,Courier,monospace\">   ┌───┐┌───┐┌───┐┌───┐┌───┐\n",
       "q: ┤ H ├┤ T ├┤ H ├┤ T ├┤ Z ├\n",
       "   └───┘└───┘└───┘└───┘└───┘</pre>"
      ],
      "text/plain": [
       "   ┌───┐┌───┐┌───┐┌───┐┌───┐\n",
       "q: ┤ H ├┤ T ├┤ H ├┤ T ├┤ Z ├\n",
       "   └───┘└───┘└───┘└───┘└───┘"
      ]
     },
     "execution_count": 4,
     "metadata": {},
     "output_type": "execute_result"
    }
   ],
   "source": [
    "from qiskit import QuantumCircuit\n",
    "\n",
    "circuit = QuantumCircuit(1)\n",
    "\n",
    "circuit.h(0)\n",
    "circuit.t(0)\n",
    "circuit.h(0)\n",
    "circuit.t(0)\n",
    "circuit.z(0)\n",
    "\n",
    "circuit.draw()"
   ]
  },
  {
   "cell_type": "markdown",
   "id": "150cb14f-cccb-4336-836d-dde14801a94d",
   "metadata": {},
   "source": [
    "The operations are applied sequentially, starting on the left and ending on the right in the figure. Let us first initialize a starting quantum state vecotr and then evolve that state according to the sequence of operations."
   ]
  },
  {
   "cell_type": "code",
   "execution_count": 5,
   "id": "0867b82e-5715-4bda-91e0-a4162f04c979",
   "metadata": {},
   "outputs": [
    {
     "data": {
      "text/plain": [
       "[ 0.85355339+0.35355339j,-0.35355339+0.14644661j]"
      ]
     },
     "execution_count": 5,
     "metadata": {},
     "output_type": "execute_result"
    }
   ],
   "source": [
    "from qiskit.quantum_info import Statevector\n",
    "\n",
    "ket0 = Statevector([1,0])\n",
    "v = ket0.evolve(circuit)\n",
    "v.draw(\"text\")"
   ]
  },
  {
   "cell_type": "markdown",
   "id": "01c08db0-90cc-4e92-aa46-c3504d96754f",
   "metadata": {},
   "source": [
    "Finally let's simulate the result of running this experiment (i.e., preparing the state |0>, applying the sequence of operations represented by the circuit, eand measuring) 4000 times."
   ]
  },
  {
   "cell_type": "code",
   "execution_count": 6,
   "id": "5ad4427b-97d7-4b55-bd02-91eb5b973bbc",
   "metadata": {},
   "outputs": [
    {
     "data": {
      "image/png": "[encoded data removed]",
      "text/plain": [
       "<Figure size 640x480 with 1 Axes>"
      ]
     },
     "execution_count": 6,
     "metadata": {},
     "output_type": "execute_result"
    }
   ],
   "source": [
    "from qiskit.visualization import plot_histogram\n",
    "from qiskit.quantum_info import Statevector\n",
    "\n",
    "v = Statevector([(1 + 2.0j) / 3, -2 / 3])\n",
    "statistics = v.sample_counts(4000)\n",
    "plot_histogram(statistics)"
   ]
  },
  {
   "cell_type": "code",
   "execution_count": null,
   "id": "60bc8de2-7092-477c-9405-305d50775be9",
   "metadata": {},
   "outputs": [],
   "source": []
  }
 ],
 "metadata": {
  "kernelspec": {
   "display_name": "Python 3 (ipykernel)",
   "language": "python",
   "name": "python3"
  },
  "language_info": {
   "codemirror_mode": {
    "name": "ipython",
    "version": 3
   },
   "file_extension": ".py",
   "mimetype": "text/x-python",
   "name": "python",
   "nbconvert_exporter": "python",
   "pygments_lexer": "ipython3",
   "version": "3.12.7"
  }
 },
 "nbformat": 4,
 "nbformat_minor": 5
}
